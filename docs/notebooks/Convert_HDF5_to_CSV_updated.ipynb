{
  "nbformat": 4,
  "nbformat_minor": 0,
  "metadata": {
    "colab": {
      "provenance": [],
      "include_colab_link": true
    },
    "kernelspec": {
      "name": "python3",
      "display_name": "Python 3"
    }
  },
  "cells": [
    {
      "cell_type": "markdown",
      "metadata": {
        "id": "view-in-github",
        "colab_type": "text"
      },
      "source": [
        "<a href=\"https://colab.research.google.com/github/Toshea111/sleap/blob/develop/Convert_HDF5_to_CSV_updated.ipynb\" target=\"_parent\"><img src=\"https://colab.research.google.com/assets/colab-badge.svg\" alt=\"Open In Colab\"/></a>"
      ]
    },
    {
      "cell_type": "markdown",
      "metadata": {
        "id": "js-Lmh27GJcY"
      },
      "source": [
        "First, we'll upload a HDF5 file that was generated from within the SLEAP GUI. This can be created by opening a tracked project file (`.slp`) and going to **File** -> **Export Analysis HDF5...**\n",
        "\n",
        "Note that you can also upload the file by navigating the sidebar on the left side of the page in Colab."
      ]
    },
    {
      "cell_type": "code",
      "metadata": {
        "id": "LQyhNZcMFmER",
        "colab": {
          "resources": {
            "http://localhost:8080/nbextensions/google.colab/files.js": {
              "data": "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",
              "ok": true,
              "headers": [
                [
                  "content-type",
                  "application/javascript"
                ]
              ],
              "status": 200,
              "status_text": ""
            }
          },
          "base_uri": "https://localhost:8080/",
          "height": 91
        },
        "outputId": "b43e8f11-b022-4b62-fd4d-ab5bcf323061"
      },
      "source": [
        "from google.colab import files\n",
        "\n",
        "uploaded = files.upload()\n",
        "h5_filepath = list(uploaded.keys())[0]\n",
        "\n",
        "print(f\"h5_filepath = {h5_filepath}\")"
      ],
      "execution_count": null,
      "outputs": [
        {
          "output_type": "display_data",
          "data": {
            "text/html": [
              "\n",
              "     <input type=\"file\" id=\"files-b66b0e73-9c9e-4a11-a4dd-f918be74d83f\" name=\"files[]\" multiple disabled\n",
              "        style=\"border:none\" />\n",
              "     <output id=\"result-b66b0e73-9c9e-4a11-a4dd-f918be74d83f\">\n",
              "      Upload widget is only available when the cell has been executed in the\n",
              "      current browser session. Please rerun this cell to enable.\n",
              "      </output>\n",
              "      <script src=\"/nbextensions/google.colab/files.js\"></script> "
            ],
            "text/plain": [
              "<IPython.core.display.HTML object>"
            ]
          },
          "metadata": {
            "tags": []
          }
        },
        {
          "output_type": "stream",
          "text": [
            "Saving flies_example.00.analysis.h5 to flies_example.00.analysis.h5\n",
            "h5_filepath = flies_example.00.analysis.h5\n"
          ],
          "name": "stdout"
        }
      ]
    },
    {
      "cell_type": "markdown",
      "metadata": {
        "id": "hxY9g9OqHWk5"
      },
      "source": [
        "Once you have the file uploaded, let's open it, load its contents and inspect the data."
      ]
    },
    {
      "cell_type": "code",
      "metadata": {
        "id": "afPrA1dCE_EZ",
        "colab": {
          "base_uri": "https://localhost:8080/",
          "height": 104
        },
        "outputId": "b7e6dd6e-a974-435b-f7f2-41cd18a0c340"
      },
      "source": [
        "import numpy as np\n",
        "import pandas as pd\n",
        "import h5py\n",
        "\n",
        "# Open the HDF5 file using h5py.\n",
        "with h5py.File(h5_filepath, \"r\") as f:\n",
        "\n",
        "  # Print a list of the keys available.\n",
        "  print(\"Keys in the HDF5 file:\", list(f.keys()))\n",
        "\n",
        "  # Load all the datasets into a dictionary.\n",
        "  data = {k: v[()] for k, v in f.items()}\n",
        "\n",
        "  # Here we're just converting string arrays into regular Python strings.\n",
        "  data[\"node_names\"] = [s.decode() for s in data[\"node_names\"].tolist()]\n",
        "  data[\"track_names\"] = [s.decode() for s in data[\"track_names\"].tolist()]\n",
        "\n",
        "  # And we just flip the order of the tracks axes for convenience.\n",
        "  data[\"tracks\"] = np.transpose(data[\"tracks\"])\n",
        "\n",
        "  # And finally convert the data type of the track occupancy array to boolean.\n",
        "  # We'll see what this array is used for further down.\n",
        "  data[\"track_occupancy\"] = data[\"track_occupancy\"].astype(bool)\n",
        "\n",
        "\n",
        "# Describe the values in the data dictionary we just created.\n",
        "for key, value in data.items():\n",
        "  if isinstance(value, np.ndarray):\n",
        "    print(f\"{key}: {value.dtype} array of shape {value.shape}\")\n",
        "  else:\n",
        "    print(f\"{key}: {value}\")"
      ],
      "execution_count": null,
      "outputs": [
        {
          "output_type": "stream",
          "text": [
            "Keys in the HDF5 file: ['node_names', 'track_names', 'track_occupancy', 'tracks']\n",
            "node_names: ['head', 'thorax', 'abdomen', 'wingL', 'wingR', 'forelegL4', 'forelegR4', 'midlegL4', 'midlegR4', 'hindlegL4', 'hindlegR4', 'eyeL', 'eyeR']\n",
            "track_names: ['track_0', 'track_1']\n",
            "track_occupancy: bool array of shape (14000, 2)\n",
            "tracks: float64 array of shape (14000, 13, 2, 2)\n"
          ],
          "name": "stdout"
        }
      ]
    },
    {
      "cell_type": "markdown",
      "metadata": {
        "id": "IrAwp2dgIp_9"
      },
      "source": [
        "The `data[\"tracks\"]` array has the raw tracking coordinates, with axes corresponding to `(frames, nodes, xy, tracks)`.\n",
        "\n",
        "In this case we don't have data for every frame since we just tracked a small clip; this is indicated by the `data[\"track_occupancy\"]` array.\n",
        "\n",
        "First, let's find all the frames that have at least one animal tracked."
      ]
    },
    {
      "cell_type": "code",
      "metadata": {
        "id": "VdkVsRb1Fsey",
        "colab": {
          "base_uri": "https://localhost:8080/",
          "height": 35
        },
        "outputId": "2140ab89-1e26-47ea-9102-fea5ddaed93a"
      },
      "source": [
        "valid_frame_idxs = np.argwhere(data[\"track_occupancy\"].any(axis=1)).flatten()\n",
        "valid_frame_idxs"
      ],
      "execution_count": null,
      "outputs": [
        {
          "output_type": "execute_result",
          "data": {
            "text/plain": [
              "array([12255, 12256, 12257, ..., 13997, 13998, 13999])"
            ]
          },
          "metadata": {
            "tags": []
          },
          "execution_count": 3
        }
      ]
    },
    {
      "cell_type": "markdown",
      "metadata": {
        "id": "R-TFMjRZKXVi"
      },
      "source": [
        "Great, so now let's build up a `tracks` table where each row contains the detected body part coordinates for a single animal in a single frame."
      ]
    },
    {
      "cell_type": "code",
      "metadata": {
        "id": "FTO28tjRHJxr",
        "colab": {
          "base_uri": "https://localhost:8080/",
          "height": 222
        },
        "outputId": "bddb8775-b63c-4c38-b167-49020b5797a0"
      },
      "source": [
        "tracks = []\n",
        "for frame_idx in valid_frame_idxs:\n",
        "  # Get the tracking data for the current frame.\n",
        "  frame_tracks = data[\"tracks\"][frame_idx]\n",
        "\n",
        "  # Loop over the animals in the current frame.\n",
        "  for i in range(frame_tracks.shape[-1]):\n",
        "    pts = frame_tracks[..., i]\n",
        "    \n",
        "    if np.isnan(pts).all():\n",
        "      # Skip this animal if all of its points are missing (i.e., it wasn't\n",
        "      # detected in the current frame).\n",
        "      continue\n",
        "    \n",
        "    # Let's initialize our row with some metadata.\n",
        "    detection = {\"track\": data[\"track_names\"][i], \"frame_idx\": frame_idx}\n",
        "\n",
        "    # Now let's fill in the coordinates for each body part.\n",
        "    for node_name, (x, y) in zip(data[\"node_names\"], pts):\n",
        "      detection[f\"{node_name}.x\"] = x\n",
        "      detection[f\"{node_name}.y\"] = y\n",
        "\n",
        "    # Add the row to the list and move on to the next detection.\n",
        "    tracks.append(detection)\n",
        "\n",
        "# Once we're done, we can convert this list of rows into a table using Pandas.\n",
        "tracks = pd.DataFrame(tracks)\n",
        "\n",
        "tracks.head()"
      ],
      "execution_count": null,
      "outputs": [
        {
          "output_type": "execute_result",
          "data": {
            "text/html": [
              "<div>\n",
              "<style scoped>\n",
              "    .dataframe tbody tr th:only-of-type {\n",
              "        vertical-align: middle;\n",
              "    }\n",
              "\n",
              "    .dataframe tbody tr th {\n",
              "        vertical-align: top;\n",
              "    }\n",
              "\n",
              "    .dataframe thead th {\n",
              "        text-align: right;\n",
              "    }\n",
              "</style>\n",
              "<table border=\"1\" class=\"dataframe\">\n",
              "  <thead>\n",
              "    <tr style=\"text-align: right;\">\n",
              "      <th></th>\n",
              "      <th>track</th>\n",
              "      <th>frame_idx</th>\n",
              "      <th>head.x</th>\n",
              "      <th>head.y</th>\n",
              "      <th>thorax.x</th>\n",
              "      <th>thorax.y</th>\n",
              "      <th>abdomen.x</th>\n",
              "      <th>abdomen.y</th>\n",
              "      <th>wingL.x</th>\n",
              "      <th>wingL.y</th>\n",
              "      <th>wingR.x</th>\n",
              "      <th>wingR.y</th>\n",
              "      <th>forelegL4.x</th>\n",
              "      <th>forelegL4.y</th>\n",
              "      <th>forelegR4.x</th>\n",
              "      <th>forelegR4.y</th>\n",
              "      <th>midlegL4.x</th>\n",
              "      <th>midlegL4.y</th>\n",
              "      <th>midlegR4.x</th>\n",
              "      <th>midlegR4.y</th>\n",
              "      <th>hindlegL4.x</th>\n",
              "      <th>hindlegL4.y</th>\n",
              "      <th>hindlegR4.x</th>\n",
              "      <th>hindlegR4.y</th>\n",
              "      <th>eyeL.x</th>\n",
              "      <th>eyeL.y</th>\n",
              "      <th>eyeR.x</th>\n",
              "      <th>eyeR.y</th>\n",
              "    </tr>\n",
              "  </thead>\n",
              "  <tbody>\n",
              "    <tr>\n",
              "      <th>0</th>\n",
              "      <td>track_0</td>\n",
              "      <td>12255</td>\n",
              "      <td>675.095215</td>\n",
              "      <td>447.150055</td>\n",
              "      <td>640.435730</td>\n",
              "      <td>439.252960</td>\n",
              "      <td>608.769897</td>\n",
              "      <td>433.792969</td>\n",
              "      <td>591.232117</td>\n",
              "      <td>422.372589</td>\n",
              "      <td>590.235718</td>\n",
              "      <td>429.915405</td>\n",
              "      <td>693.240051</td>\n",
              "      <td>446.778748</td>\n",
              "      <td>686.841553</td>\n",
              "      <td>471.311646</td>\n",
              "      <td>670.471802</td>\n",
              "      <td>408.143524</td>\n",
              "      <td>649.016663</td>\n",
              "      <td>481.786407</td>\n",
              "      <td>616.576050</td>\n",
              "      <td>412.050201</td>\n",
              "      <td>605.569031</td>\n",
              "      <td>458.284271</td>\n",
              "      <td>668.248779</td>\n",
              "      <td>434.470459</td>\n",
              "      <td>664.264526</td>\n",
              "      <td>455.357605</td>\n",
              "    </tr>\n",
              "    <tr>\n",
              "      <th>1</th>\n",
              "      <td>track_1</td>\n",
              "      <td>12255</td>\n",
              "      <td>775.279053</td>\n",
              "      <td>441.412720</td>\n",
              "      <td>782.961548</td>\n",
              "      <td>485.112000</td>\n",
              "      <td>787.437317</td>\n",
              "      <td>517.084778</td>\n",
              "      <td>785.228271</td>\n",
              "      <td>537.595581</td>\n",
              "      <td>793.324158</td>\n",
              "      <td>537.482361</td>\n",
              "      <td>753.108948</td>\n",
              "      <td>432.660736</td>\n",
              "      <td>786.360291</td>\n",
              "      <td>418.087067</td>\n",
              "      <td>739.537231</td>\n",
              "      <td>465.654510</td>\n",
              "      <td>802.052368</td>\n",
              "      <td>454.832794</td>\n",
              "      <td>763.610840</td>\n",
              "      <td>519.440247</td>\n",
              "      <td>814.246155</td>\n",
              "      <td>501.140991</td>\n",
              "      <td>765.125122</td>\n",
              "      <td>452.851868</td>\n",
              "      <td>788.234009</td>\n",
              "      <td>449.416565</td>\n",
              "    </tr>\n",
              "    <tr>\n",
              "      <th>2</th>\n",
              "      <td>track_0</td>\n",
              "      <td>12256</td>\n",
              "      <td>675.054016</td>\n",
              "      <td>447.212982</td>\n",
              "      <td>640.519043</td>\n",
              "      <td>439.238403</td>\n",
              "      <td>608.763000</td>\n",
              "      <td>433.694153</td>\n",
              "      <td>591.198669</td>\n",
              "      <td>422.476471</td>\n",
              "      <td>590.340515</td>\n",
              "      <td>429.932983</td>\n",
              "      <td>693.085205</td>\n",
              "      <td>446.820618</td>\n",
              "      <td>686.848145</td>\n",
              "      <td>471.278412</td>\n",
              "      <td>670.431274</td>\n",
              "      <td>408.254486</td>\n",
              "      <td>649.037659</td>\n",
              "      <td>481.755127</td>\n",
              "      <td>616.490295</td>\n",
              "      <td>412.099854</td>\n",
              "      <td>605.625183</td>\n",
              "      <td>458.365356</td>\n",
              "      <td>668.273132</td>\n",
              "      <td>434.447754</td>\n",
              "      <td>664.266113</td>\n",
              "      <td>455.357422</td>\n",
              "    </tr>\n",
              "    <tr>\n",
              "      <th>3</th>\n",
              "      <td>track_1</td>\n",
              "      <td>12256</td>\n",
              "      <td>774.891846</td>\n",
              "      <td>441.471863</td>\n",
              "      <td>783.032959</td>\n",
              "      <td>485.260071</td>\n",
              "      <td>787.524841</td>\n",
              "      <td>516.554260</td>\n",
              "      <td>785.242004</td>\n",
              "      <td>537.591858</td>\n",
              "      <td>793.648560</td>\n",
              "      <td>537.606079</td>\n",
              "      <td>753.396484</td>\n",
              "      <td>447.158203</td>\n",
              "      <td>782.449829</td>\n",
              "      <td>416.640808</td>\n",
              "      <td>739.760864</td>\n",
              "      <td>465.682037</td>\n",
              "      <td>802.204773</td>\n",
              "      <td>454.997894</td>\n",
              "      <td>763.507019</td>\n",
              "      <td>519.817871</td>\n",
              "      <td>814.236877</td>\n",
              "      <td>501.171417</td>\n",
              "      <td>764.985535</td>\n",
              "      <td>453.076080</td>\n",
              "      <td>787.857849</td>\n",
              "      <td>449.323792</td>\n",
              "    </tr>\n",
              "    <tr>\n",
              "      <th>4</th>\n",
              "      <td>track_0</td>\n",
              "      <td>12257</td>\n",
              "      <td>675.102112</td>\n",
              "      <td>447.229248</td>\n",
              "      <td>640.517639</td>\n",
              "      <td>439.304169</td>\n",
              "      <td>608.589233</td>\n",
              "      <td>433.605316</td>\n",
              "      <td>591.185974</td>\n",
              "      <td>422.511292</td>\n",
              "      <td>590.349304</td>\n",
              "      <td>429.735077</td>\n",
              "      <td>693.255249</td>\n",
              "      <td>446.874512</td>\n",
              "      <td>686.856079</td>\n",
              "      <td>471.305237</td>\n",
              "      <td>670.476379</td>\n",
              "      <td>408.137573</td>\n",
              "      <td>649.045105</td>\n",
              "      <td>481.833374</td>\n",
              "      <td>616.544006</td>\n",
              "      <td>412.152802</td>\n",
              "      <td>605.600952</td>\n",
              "      <td>458.374969</td>\n",
              "      <td>668.335266</td>\n",
              "      <td>434.519470</td>\n",
              "      <td>664.268799</td>\n",
              "      <td>455.382538</td>\n",
              "    </tr>\n",
              "  </tbody>\n",
              "</table>\n",
              "</div>"
            ],
            "text/plain": [
              "     track  frame_idx      head.x  ...      eyeL.y      eyeR.x      eyeR.y\n",
              "0  track_0      12255  675.095215  ...  434.470459  664.264526  455.357605\n",
              "1  track_1      12255  775.279053  ...  452.851868  788.234009  449.416565\n",
              "2  track_0      12256  675.054016  ...  434.447754  664.266113  455.357422\n",
              "3  track_1      12256  774.891846  ...  453.076080  787.857849  449.323792\n",
              "4  track_0      12257  675.102112  ...  434.519470  664.268799  455.382538\n",
              "\n",
              "[5 rows x 28 columns]"
            ]
          },
          "metadata": {
            "tags": []
          },
          "execution_count": 4
        }
      ]
    },
    {
      "cell_type": "markdown",
      "metadata": {
        "id": "Pi7fRj-KNxku"
      },
      "source": [
        "Finally, we can save the table we just generated into a CSV file and download it for further analysis."
      ]
    },
    {
      "cell_type": "code",
      "metadata": {
        "id": "IS0bhgkWNsJk",
        "colab": {
          "base_uri": "https://localhost:8080/",
          "height": 17
        },
        "outputId": "a6023e8c-7e33-4570-91ba-4a89647634d9"
      },
      "source": [
        "tracks.to_csv(\"tracks.csv\", index=False)\n",
        "files.download(\"tracks.csv\")"
      ],
      "execution_count": null,
      "outputs": [
        {
          "output_type": "display_data",
          "data": {
            "application/javascript": [
              "\n",
              "    async function download(id, filename, size) {\n",
              "      if (!google.colab.kernel.accessAllowed) {\n",
              "        return;\n",
              "      }\n",
              "      const div = document.createElement('div');\n",
              "      const label = document.createElement('label');\n",
              "      label.textContent = `Downloading \"${filename}\": `;\n",
              "      div.appendChild(label);\n",
              "      const progress = document.createElement('progress');\n",
              "      progress.max = size;\n",
              "      div.appendChild(progress);\n",
              "      document.body.appendChild(div);\n",
              "\n",
              "      const buffers = [];\n",
              "      let downloaded = 0;\n",
              "\n",
              "      const channel = await google.colab.kernel.comms.open(id);\n",
              "      // Send a message to notify the kernel that we're ready.\n",
              "      channel.send({})\n",
              "\n",
              "      for await (const message of channel.messages) {\n",
              "        // Send a message to notify the kernel that we're ready.\n",
              "        channel.send({})\n",
              "        if (message.buffers) {\n",
              "          for (const buffer of message.buffers) {\n",
              "            buffers.push(buffer);\n",
              "            downloaded += buffer.byteLength;\n",
              "            progress.value = downloaded;\n",
              "          }\n",
              "        }\n",
              "      }\n",
              "      const blob = new Blob(buffers, {type: 'application/binary'});\n",
              "      const a = document.createElement('a');\n",
              "      a.href = window.URL.createObjectURL(blob);\n",
              "      a.download = filename;\n",
              "      div.appendChild(a);\n",
              "      a.click();\n",
              "      div.remove();\n",
              "    }\n",
              "  "
            ],
            "text/plain": [
              "<IPython.core.display.Javascript object>"
            ]
          },
          "metadata": {
            "tags": []
          }
        },
        {
          "output_type": "display_data",
          "data": {
            "application/javascript": [
              "download(\"download_1ec4754d-58fe-40e0-80f5-a819d9cf5fcf\", \"tracks.csv\", 1596589)"
            ],
            "text/plain": [
              "<IPython.core.display.Javascript object>"
            ]
          },
          "metadata": {
            "tags": []
          }
        }
      ]
    }
  ]
}
